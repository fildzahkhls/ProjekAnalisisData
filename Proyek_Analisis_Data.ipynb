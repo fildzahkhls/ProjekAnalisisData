{
  "cells": [
    {
      "cell_type": "markdown",
      "metadata": {
        "id": "H9wADwK78DCz"
      },
      "source": [
        "# Proyek Analisis Data: Bike Sharing\n",
        "- **Nama:** Fildzah Khalishah Ghassani\n",
        "- **Email:** m206d4kx2244@bangkit.academy\n",
        "- **ID Dicoding:** fildzahkhls"
      ]
    },
    {
      "cell_type": "markdown",
      "metadata": {
        "id": "eE0raob58DC0"
      },
      "source": [
        "## Menentukan Pertanyaan Bisnis"
      ]
    },
    {
      "cell_type": "markdown",
      "metadata": {
        "id": "GmQeQ5YF8DC0"
      },
      "source": [
        "- Bagaimana pola jumlah peminjaman sepeda pada setiap jam dalam satu hari?\n",
        "- Apakah terdapat tren jangka panjang dalam jumlah total peminjaman sepeda dari waktu ke waktu?\n",
        "- Bagaimana korelasi antara musim dan jumlah penyewaan sepeda harian, pada musim apakah peminjam terbanyak?"
      ]
    },
    {
      "cell_type": "markdown",
      "metadata": {
        "id": "H-z4QGlO8DC1"
      },
      "source": [
        "## Import Semua Packages/Library yang Digunakan"
      ]
    },
    {
      "cell_type": "code",
      "execution_count": 46,
      "metadata": {
        "id": "FVYwaObI8DC1"
      },
      "outputs": [],
      "source": [
        "import pandas as pd\n",
        "import matplotlib.pyplot as plt\n",
        "import numpy as np"
      ]
    },
    {
      "cell_type": "markdown",
      "metadata": {
        "id": "h_Sh51Xy8DC1"
      },
      "source": [
        "## Data Wrangling"
      ]
    },
    {
      "cell_type": "markdown",
      "metadata": {
        "id": "sXU2GBYu8DC1"
      },
      "source": [
        "### Gathering Data"
      ]
    },
    {
      "cell_type": "markdown",
      "source": [
        "Membuat data frame yang diberi nama hour dan day"
      ],
      "metadata": {
        "id": "Cp0e1pnPPjj9"
      }
    },
    {
      "cell_type": "code",
      "execution_count": 47,
      "metadata": {
        "id": "zjCBk1BI8DC1",
        "colab": {
          "base_uri": "https://localhost:8080/",
          "height": 330
        },
        "outputId": "92e96af3-d682-4220-bdb2-15c1aa7b43a6"
      },
      "outputs": [
        {
          "output_type": "stream",
          "name": "stdout",
          "text": [
            "(17379, 17)\n"
          ]
        },
        {
          "output_type": "execute_result",
          "data": {
            "text/plain": [
              "   instant      dteday  season  yr  mnth  hr  holiday  weekday  workingday  \\\n",
              "0        1  2011-01-01       1   0     1   0        0        6           0   \n",
              "1        2  2011-01-01       1   0     1   1        0        6           0   \n",
              "2        3  2011-01-01       1   0     1   2        0        6           0   \n",
              "3        4  2011-01-01       1   0     1   3        0        6           0   \n",
              "4        5  2011-01-01       1   0     1   4        0        6           0   \n",
              "\n",
              "   weathersit  temp   atemp   hum  windspeed  casual  registered  cnt  \n",
              "0           1  0.24  0.2879  0.81        0.0       3          13   16  \n",
              "1           1  0.22  0.2727  0.80        0.0       8          32   40  \n",
              "2           1  0.22  0.2727  0.80        0.0       5          27   32  \n",
              "3           1  0.24  0.2879  0.75        0.0       3          10   13  \n",
              "4           1  0.24  0.2879  0.75        0.0       0           1    1  "
            ],
            "text/html": [
              "\n",
              "  <div id=\"df-6d47bc9d-4c1e-4c1e-ae0d-578f675fa7e9\" class=\"colab-df-container\">\n",
              "    <div>\n",
              "<style scoped>\n",
              "    .dataframe tbody tr th:only-of-type {\n",
              "        vertical-align: middle;\n",
              "    }\n",
              "\n",
              "    .dataframe tbody tr th {\n",
              "        vertical-align: top;\n",
              "    }\n",
              "\n",
              "    .dataframe thead th {\n",
              "        text-align: right;\n",
              "    }\n",
              "</style>\n",
              "<table border=\"1\" class=\"dataframe\">\n",
              "  <thead>\n",
              "    <tr style=\"text-align: right;\">\n",
              "      <th></th>\n",
              "      <th>instant</th>\n",
              "      <th>dteday</th>\n",
              "      <th>season</th>\n",
              "      <th>yr</th>\n",
              "      <th>mnth</th>\n",
              "      <th>hr</th>\n",
              "      <th>holiday</th>\n",
              "      <th>weekday</th>\n",
              "      <th>workingday</th>\n",
              "      <th>weathersit</th>\n",
              "      <th>temp</th>\n",
              "      <th>atemp</th>\n",
              "      <th>hum</th>\n",
              "      <th>windspeed</th>\n",
              "      <th>casual</th>\n",
              "      <th>registered</th>\n",
              "      <th>cnt</th>\n",
              "    </tr>\n",
              "  </thead>\n",
              "  <tbody>\n",
              "    <tr>\n",
              "      <th>0</th>\n",
              "      <td>1</td>\n",
              "      <td>2011-01-01</td>\n",
              "      <td>1</td>\n",
              "      <td>0</td>\n",
              "      <td>1</td>\n",
              "      <td>0</td>\n",
              "      <td>0</td>\n",
              "      <td>6</td>\n",
              "      <td>0</td>\n",
              "      <td>1</td>\n",
              "      <td>0.24</td>\n",
              "      <td>0.2879</td>\n",
              "      <td>0.81</td>\n",
              "      <td>0.0</td>\n",
              "      <td>3</td>\n",
              "      <td>13</td>\n",
              "      <td>16</td>\n",
              "    </tr>\n",
              "    <tr>\n",
              "      <th>1</th>\n",
              "      <td>2</td>\n",
              "      <td>2011-01-01</td>\n",
              "      <td>1</td>\n",
              "      <td>0</td>\n",
              "      <td>1</td>\n",
              "      <td>1</td>\n",
              "      <td>0</td>\n",
              "      <td>6</td>\n",
              "      <td>0</td>\n",
              "      <td>1</td>\n",
              "      <td>0.22</td>\n",
              "      <td>0.2727</td>\n",
              "      <td>0.80</td>\n",
              "      <td>0.0</td>\n",
              "      <td>8</td>\n",
              "      <td>32</td>\n",
              "      <td>40</td>\n",
              "    </tr>\n",
              "    <tr>\n",
              "      <th>2</th>\n",
              "      <td>3</td>\n",
              "      <td>2011-01-01</td>\n",
              "      <td>1</td>\n",
              "      <td>0</td>\n",
              "      <td>1</td>\n",
              "      <td>2</td>\n",
              "      <td>0</td>\n",
              "      <td>6</td>\n",
              "      <td>0</td>\n",
              "      <td>1</td>\n",
              "      <td>0.22</td>\n",
              "      <td>0.2727</td>\n",
              "      <td>0.80</td>\n",
              "      <td>0.0</td>\n",
              "      <td>5</td>\n",
              "      <td>27</td>\n",
              "      <td>32</td>\n",
              "    </tr>\n",
              "    <tr>\n",
              "      <th>3</th>\n",
              "      <td>4</td>\n",
              "      <td>2011-01-01</td>\n",
              "      <td>1</td>\n",
              "      <td>0</td>\n",
              "      <td>1</td>\n",
              "      <td>3</td>\n",
              "      <td>0</td>\n",
              "      <td>6</td>\n",
              "      <td>0</td>\n",
              "      <td>1</td>\n",
              "      <td>0.24</td>\n",
              "      <td>0.2879</td>\n",
              "      <td>0.75</td>\n",
              "      <td>0.0</td>\n",
              "      <td>3</td>\n",
              "      <td>10</td>\n",
              "      <td>13</td>\n",
              "    </tr>\n",
              "    <tr>\n",
              "      <th>4</th>\n",
              "      <td>5</td>\n",
              "      <td>2011-01-01</td>\n",
              "      <td>1</td>\n",
              "      <td>0</td>\n",
              "      <td>1</td>\n",
              "      <td>4</td>\n",
              "      <td>0</td>\n",
              "      <td>6</td>\n",
              "      <td>0</td>\n",
              "      <td>1</td>\n",
              "      <td>0.24</td>\n",
              "      <td>0.2879</td>\n",
              "      <td>0.75</td>\n",
              "      <td>0.0</td>\n",
              "      <td>0</td>\n",
              "      <td>1</td>\n",
              "      <td>1</td>\n",
              "    </tr>\n",
              "  </tbody>\n",
              "</table>\n",
              "</div>\n",
              "    <div class=\"colab-df-buttons\">\n",
              "\n",
              "  <div class=\"colab-df-container\">\n",
              "    <button class=\"colab-df-convert\" onclick=\"convertToInteractive('df-6d47bc9d-4c1e-4c1e-ae0d-578f675fa7e9')\"\n",
              "            title=\"Convert this dataframe to an interactive table.\"\n",
              "            style=\"display:none;\">\n",
              "\n",
              "  <svg xmlns=\"http://www.w3.org/2000/svg\" height=\"24px\" viewBox=\"0 -960 960 960\">\n",
              "    <path d=\"M120-120v-720h720v720H120Zm60-500h600v-160H180v160Zm220 220h160v-160H400v160Zm0 220h160v-160H400v160ZM180-400h160v-160H180v160Zm440 0h160v-160H620v160ZM180-180h160v-160H180v160Zm440 0h160v-160H620v160Z\"/>\n",
              "  </svg>\n",
              "    </button>\n",
              "\n",
              "  <style>\n",
              "    .colab-df-container {\n",
              "      display:flex;\n",
              "      gap: 12px;\n",
              "    }\n",
              "\n",
              "    .colab-df-convert {\n",
              "      background-color: #E8F0FE;\n",
              "      border: none;\n",
              "      border-radius: 50%;\n",
              "      cursor: pointer;\n",
              "      display: none;\n",
              "      fill: #1967D2;\n",
              "      height: 32px;\n",
              "      padding: 0 0 0 0;\n",
              "      width: 32px;\n",
              "    }\n",
              "\n",
              "    .colab-df-convert:hover {\n",
              "      background-color: #E2EBFA;\n",
              "      box-shadow: 0px 1px 2px rgba(60, 64, 67, 0.3), 0px 1px 3px 1px rgba(60, 64, 67, 0.15);\n",
              "      fill: #174EA6;\n",
              "    }\n",
              "\n",
              "    .colab-df-buttons div {\n",
              "      margin-bottom: 4px;\n",
              "    }\n",
              "\n",
              "    [theme=dark] .colab-df-convert {\n",
              "      background-color: #3B4455;\n",
              "      fill: #D2E3FC;\n",
              "    }\n",
              "\n",
              "    [theme=dark] .colab-df-convert:hover {\n",
              "      background-color: #434B5C;\n",
              "      box-shadow: 0px 1px 3px 1px rgba(0, 0, 0, 0.15);\n",
              "      filter: drop-shadow(0px 1px 2px rgba(0, 0, 0, 0.3));\n",
              "      fill: #FFFFFF;\n",
              "    }\n",
              "  </style>\n",
              "\n",
              "    <script>\n",
              "      const buttonEl =\n",
              "        document.querySelector('#df-6d47bc9d-4c1e-4c1e-ae0d-578f675fa7e9 button.colab-df-convert');\n",
              "      buttonEl.style.display =\n",
              "        google.colab.kernel.accessAllowed ? 'block' : 'none';\n",
              "\n",
              "      async function convertToInteractive(key) {\n",
              "        const element = document.querySelector('#df-6d47bc9d-4c1e-4c1e-ae0d-578f675fa7e9');\n",
              "        const dataTable =\n",
              "          await google.colab.kernel.invokeFunction('convertToInteractive',\n",
              "                                                    [key], {});\n",
              "        if (!dataTable) return;\n",
              "\n",
              "        const docLinkHtml = 'Like what you see? Visit the ' +\n",
              "          '<a target=\"_blank\" href=https://colab.research.google.com/notebooks/data_table.ipynb>data table notebook</a>'\n",
              "          + ' to learn more about interactive tables.';\n",
              "        element.innerHTML = '';\n",
              "        dataTable['output_type'] = 'display_data';\n",
              "        await google.colab.output.renderOutput(dataTable, element);\n",
              "        const docLink = document.createElement('div');\n",
              "        docLink.innerHTML = docLinkHtml;\n",
              "        element.appendChild(docLink);\n",
              "      }\n",
              "    </script>\n",
              "  </div>\n",
              "\n",
              "\n",
              "<div id=\"df-b7abf6a6-9ba4-4705-8819-0b5d9c0597e8\">\n",
              "  <button class=\"colab-df-quickchart\" onclick=\"quickchart('df-b7abf6a6-9ba4-4705-8819-0b5d9c0597e8')\"\n",
              "            title=\"Suggest charts\"\n",
              "            style=\"display:none;\">\n",
              "\n",
              "<svg xmlns=\"http://www.w3.org/2000/svg\" height=\"24px\"viewBox=\"0 0 24 24\"\n",
              "     width=\"24px\">\n",
              "    <g>\n",
              "        <path d=\"M19 3H5c-1.1 0-2 .9-2 2v14c0 1.1.9 2 2 2h14c1.1 0 2-.9 2-2V5c0-1.1-.9-2-2-2zM9 17H7v-7h2v7zm4 0h-2V7h2v10zm4 0h-2v-4h2v4z\"/>\n",
              "    </g>\n",
              "</svg>\n",
              "  </button>\n",
              "\n",
              "<style>\n",
              "  .colab-df-quickchart {\n",
              "      --bg-color: #E8F0FE;\n",
              "      --fill-color: #1967D2;\n",
              "      --hover-bg-color: #E2EBFA;\n",
              "      --hover-fill-color: #174EA6;\n",
              "      --disabled-fill-color: #AAA;\n",
              "      --disabled-bg-color: #DDD;\n",
              "  }\n",
              "\n",
              "  [theme=dark] .colab-df-quickchart {\n",
              "      --bg-color: #3B4455;\n",
              "      --fill-color: #D2E3FC;\n",
              "      --hover-bg-color: #434B5C;\n",
              "      --hover-fill-color: #FFFFFF;\n",
              "      --disabled-bg-color: #3B4455;\n",
              "      --disabled-fill-color: #666;\n",
              "  }\n",
              "\n",
              "  .colab-df-quickchart {\n",
              "    background-color: var(--bg-color);\n",
              "    border: none;\n",
              "    border-radius: 50%;\n",
              "    cursor: pointer;\n",
              "    display: none;\n",
              "    fill: var(--fill-color);\n",
              "    height: 32px;\n",
              "    padding: 0;\n",
              "    width: 32px;\n",
              "  }\n",
              "\n",
              "  .colab-df-quickchart:hover {\n",
              "    background-color: var(--hover-bg-color);\n",
              "    box-shadow: 0 1px 2px rgba(60, 64, 67, 0.3), 0 1px 3px 1px rgba(60, 64, 67, 0.15);\n",
              "    fill: var(--button-hover-fill-color);\n",
              "  }\n",
              "\n",
              "  .colab-df-quickchart-complete:disabled,\n",
              "  .colab-df-quickchart-complete:disabled:hover {\n",
              "    background-color: var(--disabled-bg-color);\n",
              "    fill: var(--disabled-fill-color);\n",
              "    box-shadow: none;\n",
              "  }\n",
              "\n",
              "  .colab-df-spinner {\n",
              "    border: 2px solid var(--fill-color);\n",
              "    border-color: transparent;\n",
              "    border-bottom-color: var(--fill-color);\n",
              "    animation:\n",
              "      spin 1s steps(1) infinite;\n",
              "  }\n",
              "\n",
              "  @keyframes spin {\n",
              "    0% {\n",
              "      border-color: transparent;\n",
              "      border-bottom-color: var(--fill-color);\n",
              "      border-left-color: var(--fill-color);\n",
              "    }\n",
              "    20% {\n",
              "      border-color: transparent;\n",
              "      border-left-color: var(--fill-color);\n",
              "      border-top-color: var(--fill-color);\n",
              "    }\n",
              "    30% {\n",
              "      border-color: transparent;\n",
              "      border-left-color: var(--fill-color);\n",
              "      border-top-color: var(--fill-color);\n",
              "      border-right-color: var(--fill-color);\n",
              "    }\n",
              "    40% {\n",
              "      border-color: transparent;\n",
              "      border-right-color: var(--fill-color);\n",
              "      border-top-color: var(--fill-color);\n",
              "    }\n",
              "    60% {\n",
              "      border-color: transparent;\n",
              "      border-right-color: var(--fill-color);\n",
              "    }\n",
              "    80% {\n",
              "      border-color: transparent;\n",
              "      border-right-color: var(--fill-color);\n",
              "      border-bottom-color: var(--fill-color);\n",
              "    }\n",
              "    90% {\n",
              "      border-color: transparent;\n",
              "      border-bottom-color: var(--fill-color);\n",
              "    }\n",
              "  }\n",
              "</style>\n",
              "\n",
              "  <script>\n",
              "    async function quickchart(key) {\n",
              "      const quickchartButtonEl =\n",
              "        document.querySelector('#' + key + ' button');\n",
              "      quickchartButtonEl.disabled = true;  // To prevent multiple clicks.\n",
              "      quickchartButtonEl.classList.add('colab-df-spinner');\n",
              "      try {\n",
              "        const charts = await google.colab.kernel.invokeFunction(\n",
              "            'suggestCharts', [key], {});\n",
              "      } catch (error) {\n",
              "        console.error('Error during call to suggestCharts:', error);\n",
              "      }\n",
              "      quickchartButtonEl.classList.remove('colab-df-spinner');\n",
              "      quickchartButtonEl.classList.add('colab-df-quickchart-complete');\n",
              "    }\n",
              "    (() => {\n",
              "      let quickchartButtonEl =\n",
              "        document.querySelector('#df-b7abf6a6-9ba4-4705-8819-0b5d9c0597e8 button');\n",
              "      quickchartButtonEl.style.display =\n",
              "        google.colab.kernel.accessAllowed ? 'block' : 'none';\n",
              "    })();\n",
              "  </script>\n",
              "</div>\n",
              "    </div>\n",
              "  </div>\n"
            ],
            "application/vnd.google.colaboratory.intrinsic+json": {
              "type": "dataframe",
              "variable_name": "hour",
              "repr_error": "'str' object has no attribute 'empty'"
            }
          },
          "metadata": {},
          "execution_count": 47
        }
      ],
      "source": [
        "hour = pd.read_csv(\"/content/hour.csv\")\n",
        "print(hour.shape)\n",
        "hour.head()"
      ]
    },
    {
      "cell_type": "code",
      "source": [
        "day = pd.read_csv(\"/content/day.csv\")\n",
        "print(day.shape)\n",
        "day.head()"
      ],
      "metadata": {
        "colab": {
          "base_uri": "https://localhost:8080/",
          "height": 330
        },
        "id": "8fYYFJuE46Qx",
        "outputId": "83ba2335-2294-46a0-a4be-901e0e18c1af"
      },
      "execution_count": 48,
      "outputs": [
        {
          "output_type": "stream",
          "name": "stdout",
          "text": [
            "(731, 16)\n"
          ]
        },
        {
          "output_type": "execute_result",
          "data": {
            "text/plain": [
              "   instant      dteday  season  yr  mnth  holiday  weekday  workingday  \\\n",
              "0        1  2011-01-01       1   0     1        0        6           0   \n",
              "1        2  2011-01-02       1   0     1        0        0           0   \n",
              "2        3  2011-01-03       1   0     1        0        1           1   \n",
              "3        4  2011-01-04       1   0     1        0        2           1   \n",
              "4        5  2011-01-05       1   0     1        0        3           1   \n",
              "\n",
              "   weathersit      temp     atemp       hum  windspeed  casual  registered  \\\n",
              "0           2  0.344167  0.363625  0.805833   0.160446     331         654   \n",
              "1           2  0.363478  0.353739  0.696087   0.248539     131         670   \n",
              "2           1  0.196364  0.189405  0.437273   0.248309     120        1229   \n",
              "3           1  0.200000  0.212122  0.590435   0.160296     108        1454   \n",
              "4           1  0.226957  0.229270  0.436957   0.186900      82        1518   \n",
              "\n",
              "    cnt  \n",
              "0   985  \n",
              "1   801  \n",
              "2  1349  \n",
              "3  1562  \n",
              "4  1600  "
            ],
            "text/html": [
              "\n",
              "  <div id=\"df-247a524b-cc34-4dee-844a-4f0ad6786e6e\" class=\"colab-df-container\">\n",
              "    <div>\n",
              "<style scoped>\n",
              "    .dataframe tbody tr th:only-of-type {\n",
              "        vertical-align: middle;\n",
              "    }\n",
              "\n",
              "    .dataframe tbody tr th {\n",
              "        vertical-align: top;\n",
              "    }\n",
              "\n",
              "    .dataframe thead th {\n",
              "        text-align: right;\n",
              "    }\n",
              "</style>\n",
              "<table border=\"1\" class=\"dataframe\">\n",
              "  <thead>\n",
              "    <tr style=\"text-align: right;\">\n",
              "      <th></th>\n",
              "      <th>instant</th>\n",
              "      <th>dteday</th>\n",
              "      <th>season</th>\n",
              "      <th>yr</th>\n",
              "      <th>mnth</th>\n",
              "      <th>holiday</th>\n",
              "      <th>weekday</th>\n",
              "      <th>workingday</th>\n",
              "      <th>weathersit</th>\n",
              "      <th>temp</th>\n",
              "      <th>atemp</th>\n",
              "      <th>hum</th>\n",
              "      <th>windspeed</th>\n",
              "      <th>casual</th>\n",
              "      <th>registered</th>\n",
              "      <th>cnt</th>\n",
              "    </tr>\n",
              "  </thead>\n",
              "  <tbody>\n",
              "    <tr>\n",
              "      <th>0</th>\n",
              "      <td>1</td>\n",
              "      <td>2011-01-01</td>\n",
              "      <td>1</td>\n",
              "      <td>0</td>\n",
              "      <td>1</td>\n",
              "      <td>0</td>\n",
              "      <td>6</td>\n",
              "      <td>0</td>\n",
              "      <td>2</td>\n",
              "      <td>0.344167</td>\n",
              "      <td>0.363625</td>\n",
              "      <td>0.805833</td>\n",
              "      <td>0.160446</td>\n",
              "      <td>331</td>\n",
              "      <td>654</td>\n",
              "      <td>985</td>\n",
              "    </tr>\n",
              "    <tr>\n",
              "      <th>1</th>\n",
              "      <td>2</td>\n",
              "      <td>2011-01-02</td>\n",
              "      <td>1</td>\n",
              "      <td>0</td>\n",
              "      <td>1</td>\n",
              "      <td>0</td>\n",
              "      <td>0</td>\n",
              "      <td>0</td>\n",
              "      <td>2</td>\n",
              "      <td>0.363478</td>\n",
              "      <td>0.353739</td>\n",
              "      <td>0.696087</td>\n",
              "      <td>0.248539</td>\n",
              "      <td>131</td>\n",
              "      <td>670</td>\n",
              "      <td>801</td>\n",
              "    </tr>\n",
              "    <tr>\n",
              "      <th>2</th>\n",
              "      <td>3</td>\n",
              "      <td>2011-01-03</td>\n",
              "      <td>1</td>\n",
              "      <td>0</td>\n",
              "      <td>1</td>\n",
              "      <td>0</td>\n",
              "      <td>1</td>\n",
              "      <td>1</td>\n",
              "      <td>1</td>\n",
              "      <td>0.196364</td>\n",
              "      <td>0.189405</td>\n",
              "      <td>0.437273</td>\n",
              "      <td>0.248309</td>\n",
              "      <td>120</td>\n",
              "      <td>1229</td>\n",
              "      <td>1349</td>\n",
              "    </tr>\n",
              "    <tr>\n",
              "      <th>3</th>\n",
              "      <td>4</td>\n",
              "      <td>2011-01-04</td>\n",
              "      <td>1</td>\n",
              "      <td>0</td>\n",
              "      <td>1</td>\n",
              "      <td>0</td>\n",
              "      <td>2</td>\n",
              "      <td>1</td>\n",
              "      <td>1</td>\n",
              "      <td>0.200000</td>\n",
              "      <td>0.212122</td>\n",
              "      <td>0.590435</td>\n",
              "      <td>0.160296</td>\n",
              "      <td>108</td>\n",
              "      <td>1454</td>\n",
              "      <td>1562</td>\n",
              "    </tr>\n",
              "    <tr>\n",
              "      <th>4</th>\n",
              "      <td>5</td>\n",
              "      <td>2011-01-05</td>\n",
              "      <td>1</td>\n",
              "      <td>0</td>\n",
              "      <td>1</td>\n",
              "      <td>0</td>\n",
              "      <td>3</td>\n",
              "      <td>1</td>\n",
              "      <td>1</td>\n",
              "      <td>0.226957</td>\n",
              "      <td>0.229270</td>\n",
              "      <td>0.436957</td>\n",
              "      <td>0.186900</td>\n",
              "      <td>82</td>\n",
              "      <td>1518</td>\n",
              "      <td>1600</td>\n",
              "    </tr>\n",
              "  </tbody>\n",
              "</table>\n",
              "</div>\n",
              "    <div class=\"colab-df-buttons\">\n",
              "\n",
              "  <div class=\"colab-df-container\">\n",
              "    <button class=\"colab-df-convert\" onclick=\"convertToInteractive('df-247a524b-cc34-4dee-844a-4f0ad6786e6e')\"\n",
              "            title=\"Convert this dataframe to an interactive table.\"\n",
              "            style=\"display:none;\">\n",
              "\n",
              "  <svg xmlns=\"http://www.w3.org/2000/svg\" height=\"24px\" viewBox=\"0 -960 960 960\">\n",
              "    <path d=\"M120-120v-720h720v720H120Zm60-500h600v-160H180v160Zm220 220h160v-160H400v160Zm0 220h160v-160H400v160ZM180-400h160v-160H180v160Zm440 0h160v-160H620v160ZM180-180h160v-160H180v160Zm440 0h160v-160H620v160Z\"/>\n",
              "  </svg>\n",
              "    </button>\n",
              "\n",
              "  <style>\n",
              "    .colab-df-container {\n",
              "      display:flex;\n",
              "      gap: 12px;\n",
              "    }\n",
              "\n",
              "    .colab-df-convert {\n",
              "      background-color: #E8F0FE;\n",
              "      border: none;\n",
              "      border-radius: 50%;\n",
              "      cursor: pointer;\n",
              "      display: none;\n",
              "      fill: #1967D2;\n",
              "      height: 32px;\n",
              "      padding: 0 0 0 0;\n",
              "      width: 32px;\n",
              "    }\n",
              "\n",
              "    .colab-df-convert:hover {\n",
              "      background-color: #E2EBFA;\n",
              "      box-shadow: 0px 1px 2px rgba(60, 64, 67, 0.3), 0px 1px 3px 1px rgba(60, 64, 67, 0.15);\n",
              "      fill: #174EA6;\n",
              "    }\n",
              "\n",
              "    .colab-df-buttons div {\n",
              "      margin-bottom: 4px;\n",
              "    }\n",
              "\n",
              "    [theme=dark] .colab-df-convert {\n",
              "      background-color: #3B4455;\n",
              "      fill: #D2E3FC;\n",
              "    }\n",
              "\n",
              "    [theme=dark] .colab-df-convert:hover {\n",
              "      background-color: #434B5C;\n",
              "      box-shadow: 0px 1px 3px 1px rgba(0, 0, 0, 0.15);\n",
              "      filter: drop-shadow(0px 1px 2px rgba(0, 0, 0, 0.3));\n",
              "      fill: #FFFFFF;\n",
              "    }\n",
              "  </style>\n",
              "\n",
              "    <script>\n",
              "      const buttonEl =\n",
              "        document.querySelector('#df-247a524b-cc34-4dee-844a-4f0ad6786e6e button.colab-df-convert');\n",
              "      buttonEl.style.display =\n",
              "        google.colab.kernel.accessAllowed ? 'block' : 'none';\n",
              "\n",
              "      async function convertToInteractive(key) {\n",
              "        const element = document.querySelector('#df-247a524b-cc34-4dee-844a-4f0ad6786e6e');\n",
              "        const dataTable =\n",
              "          await google.colab.kernel.invokeFunction('convertToInteractive',\n",
              "                                                    [key], {});\n",
              "        if (!dataTable) return;\n",
              "\n",
              "        const docLinkHtml = 'Like what you see? Visit the ' +\n",
              "          '<a target=\"_blank\" href=https://colab.research.google.com/notebooks/data_table.ipynb>data table notebook</a>'\n",
              "          + ' to learn more about interactive tables.';\n",
              "        element.innerHTML = '';\n",
              "        dataTable['output_type'] = 'display_data';\n",
              "        await google.colab.output.renderOutput(dataTable, element);\n",
              "        const docLink = document.createElement('div');\n",
              "        docLink.innerHTML = docLinkHtml;\n",
              "        element.appendChild(docLink);\n",
              "      }\n",
              "    </script>\n",
              "  </div>\n",
              "\n",
              "\n",
              "<div id=\"df-28b901d5-bb3f-4ade-9312-51ef2cb68d91\">\n",
              "  <button class=\"colab-df-quickchart\" onclick=\"quickchart('df-28b901d5-bb3f-4ade-9312-51ef2cb68d91')\"\n",
              "            title=\"Suggest charts\"\n",
              "            style=\"display:none;\">\n",
              "\n",
              "<svg xmlns=\"http://www.w3.org/2000/svg\" height=\"24px\"viewBox=\"0 0 24 24\"\n",
              "     width=\"24px\">\n",
              "    <g>\n",
              "        <path d=\"M19 3H5c-1.1 0-2 .9-2 2v14c0 1.1.9 2 2 2h14c1.1 0 2-.9 2-2V5c0-1.1-.9-2-2-2zM9 17H7v-7h2v7zm4 0h-2V7h2v10zm4 0h-2v-4h2v4z\"/>\n",
              "    </g>\n",
              "</svg>\n",
              "  </button>\n",
              "\n",
              "<style>\n",
              "  .colab-df-quickchart {\n",
              "      --bg-color: #E8F0FE;\n",
              "      --fill-color: #1967D2;\n",
              "      --hover-bg-color: #E2EBFA;\n",
              "      --hover-fill-color: #174EA6;\n",
              "      --disabled-fill-color: #AAA;\n",
              "      --disabled-bg-color: #DDD;\n",
              "  }\n",
              "\n",
              "  [theme=dark] .colab-df-quickchart {\n",
              "      --bg-color: #3B4455;\n",
              "      --fill-color: #D2E3FC;\n",
              "      --hover-bg-color: #434B5C;\n",
              "      --hover-fill-color: #FFFFFF;\n",
              "      --disabled-bg-color: #3B4455;\n",
              "      --disabled-fill-color: #666;\n",
              "  }\n",
              "\n",
              "  .colab-df-quickchart {\n",
              "    background-color: var(--bg-color);\n",
              "    border: none;\n",
              "    border-radius: 50%;\n",
              "    cursor: pointer;\n",
              "    display: none;\n",
              "    fill: var(--fill-color);\n",
              "    height: 32px;\n",
              "    padding: 0;\n",
              "    width: 32px;\n",
              "  }\n",
              "\n",
              "  .colab-df-quickchart:hover {\n",
              "    background-color: var(--hover-bg-color);\n",
              "    box-shadow: 0 1px 2px rgba(60, 64, 67, 0.3), 0 1px 3px 1px rgba(60, 64, 67, 0.15);\n",
              "    fill: var(--button-hover-fill-color);\n",
              "  }\n",
              "\n",
              "  .colab-df-quickchart-complete:disabled,\n",
              "  .colab-df-quickchart-complete:disabled:hover {\n",
              "    background-color: var(--disabled-bg-color);\n",
              "    fill: var(--disabled-fill-color);\n",
              "    box-shadow: none;\n",
              "  }\n",
              "\n",
              "  .colab-df-spinner {\n",
              "    border: 2px solid var(--fill-color);\n",
              "    border-color: transparent;\n",
              "    border-bottom-color: var(--fill-color);\n",
              "    animation:\n",
              "      spin 1s steps(1) infinite;\n",
              "  }\n",
              "\n",
              "  @keyframes spin {\n",
              "    0% {\n",
              "      border-color: transparent;\n",
              "      border-bottom-color: var(--fill-color);\n",
              "      border-left-color: var(--fill-color);\n",
              "    }\n",
              "    20% {\n",
              "      border-color: transparent;\n",
              "      border-left-color: var(--fill-color);\n",
              "      border-top-color: var(--fill-color);\n",
              "    }\n",
              "    30% {\n",
              "      border-color: transparent;\n",
              "      border-left-color: var(--fill-color);\n",
              "      border-top-color: var(--fill-color);\n",
              "      border-right-color: var(--fill-color);\n",
              "    }\n",
              "    40% {\n",
              "      border-color: transparent;\n",
              "      border-right-color: var(--fill-color);\n",
              "      border-top-color: var(--fill-color);\n",
              "    }\n",
              "    60% {\n",
              "      border-color: transparent;\n",
              "      border-right-color: var(--fill-color);\n",
              "    }\n",
              "    80% {\n",
              "      border-color: transparent;\n",
              "      border-right-color: var(--fill-color);\n",
              "      border-bottom-color: var(--fill-color);\n",
              "    }\n",
              "    90% {\n",
              "      border-color: transparent;\n",
              "      border-bottom-color: var(--fill-color);\n",
              "    }\n",
              "  }\n",
              "</style>\n",
              "\n",
              "  <script>\n",
              "    async function quickchart(key) {\n",
              "      const quickchartButtonEl =\n",
              "        document.querySelector('#' + key + ' button');\n",
              "      quickchartButtonEl.disabled = true;  // To prevent multiple clicks.\n",
              "      quickchartButtonEl.classList.add('colab-df-spinner');\n",
              "      try {\n",
              "        const charts = await google.colab.kernel.invokeFunction(\n",
              "            'suggestCharts', [key], {});\n",
              "      } catch (error) {\n",
              "        console.error('Error during call to suggestCharts:', error);\n",
              "      }\n",
              "      quickchartButtonEl.classList.remove('colab-df-spinner');\n",
              "      quickchartButtonEl.classList.add('colab-df-quickchart-complete');\n",
              "    }\n",
              "    (() => {\n",
              "      let quickchartButtonEl =\n",
              "        document.querySelector('#df-28b901d5-bb3f-4ade-9312-51ef2cb68d91 button');\n",
              "      quickchartButtonEl.style.display =\n",
              "        google.colab.kernel.accessAllowed ? 'block' : 'none';\n",
              "    })();\n",
              "  </script>\n",
              "</div>\n",
              "    </div>\n",
              "  </div>\n"
            ],
            "application/vnd.google.colaboratory.intrinsic+json": {
              "type": "dataframe",
              "variable_name": "day",
              "repr_error": "'str' object has no attribute 'empty'"
            }
          },
          "metadata": {},
          "execution_count": 48
        }
      ]
    },
    {
      "cell_type": "markdown",
      "metadata": {
        "id": "FHSiqaZp8DC1"
      },
      "source": [
        "### Assessing Data"
      ]
    },
    {
      "cell_type": "markdown",
      "source": [
        "Mengecek tipe data dari data frame hour dan day"
      ],
      "metadata": {
        "id": "_-lbYwll5JnP"
      }
    },
    {
      "cell_type": "code",
      "source": [
        "print('\\n', hour.info())\n",
        "print('\\n', day.info())"
      ],
      "metadata": {
        "id": "ax-3tEjc9Cj1",
        "colab": {
          "base_uri": "https://localhost:8080/"
        },
        "outputId": "9bd48ff9-c90d-4bd7-e13f-983d5bfd3c44"
      },
      "execution_count": 49,
      "outputs": [
        {
          "output_type": "stream",
          "name": "stdout",
          "text": [
            "<class 'pandas.core.frame.DataFrame'>\n",
            "RangeIndex: 17379 entries, 0 to 17378\n",
            "Data columns (total 17 columns):\n",
            " #   Column      Non-Null Count  Dtype  \n",
            "---  ------      --------------  -----  \n",
            " 0   instant     17379 non-null  int64  \n",
            " 1   dteday      17379 non-null  object \n",
            " 2   season      17379 non-null  int64  \n",
            " 3   yr          17379 non-null  int64  \n",
            " 4   mnth        17379 non-null  int64  \n",
            " 5   hr          17379 non-null  int64  \n",
            " 6   holiday     17379 non-null  int64  \n",
            " 7   weekday     17379 non-null  int64  \n",
            " 8   workingday  17379 non-null  int64  \n",
            " 9   weathersit  17379 non-null  int64  \n",
            " 10  temp        17379 non-null  float64\n",
            " 11  atemp       17379 non-null  float64\n",
            " 12  hum         17379 non-null  float64\n",
            " 13  windspeed   17379 non-null  float64\n",
            " 14  casual      17379 non-null  int64  \n",
            " 15  registered  17379 non-null  int64  \n",
            " 16  cnt         17379 non-null  int64  \n",
            "dtypes: float64(4), int64(12), object(1)\n",
            "memory usage: 2.3+ MB\n",
            "\n",
            " None\n",
            "<class 'pandas.core.frame.DataFrame'>\n",
            "RangeIndex: 731 entries, 0 to 730\n",
            "Data columns (total 16 columns):\n",
            " #   Column      Non-Null Count  Dtype  \n",
            "---  ------      --------------  -----  \n",
            " 0   instant     731 non-null    int64  \n",
            " 1   dteday      731 non-null    object \n",
            " 2   season      731 non-null    int64  \n",
            " 3   yr          731 non-null    int64  \n",
            " 4   mnth        731 non-null    int64  \n",
            " 5   holiday     731 non-null    int64  \n",
            " 6   weekday     731 non-null    int64  \n",
            " 7   workingday  731 non-null    int64  \n",
            " 8   weathersit  731 non-null    int64  \n",
            " 9   temp        731 non-null    float64\n",
            " 10  atemp       731 non-null    float64\n",
            " 11  hum         731 non-null    float64\n",
            " 12  windspeed   731 non-null    float64\n",
            " 13  casual      731 non-null    int64  \n",
            " 14  registered  731 non-null    int64  \n",
            " 15  cnt         731 non-null    int64  \n",
            "dtypes: float64(4), int64(11), object(1)\n",
            "memory usage: 91.5+ KB\n",
            "\n",
            " None\n"
          ]
        }
      ]
    },
    {
      "cell_type": "markdown",
      "source": [
        "Terdapat beberapa kolom yang **tidak sesuai dengan tipe datanya** seperti pada data frame hour **dteday, yr, mnth, hr** dan pada data frame day ada  **dteday, yr, mnth**"
      ],
      "metadata": {
        "id": "3MeIg4A1Anfo"
      }
    },
    {
      "cell_type": "code",
      "source": [
        "print('\\nInfo data null hour data frame:\\n', hour.isna().sum())\n",
        "print('\\nInfo data null day data frame:\\n', day.isna().sum())"
      ],
      "metadata": {
        "colab": {
          "base_uri": "https://localhost:8080/"
        },
        "id": "3NMfnSR67ug8",
        "outputId": "2db84f0b-3409-48f4-8590-bf1495300536"
      },
      "execution_count": 50,
      "outputs": [
        {
          "output_type": "stream",
          "name": "stdout",
          "text": [
            "\n",
            "Info data null hour data frame:\n",
            " instant       0\n",
            "dteday        0\n",
            "season        0\n",
            "yr            0\n",
            "mnth          0\n",
            "hr            0\n",
            "holiday       0\n",
            "weekday       0\n",
            "workingday    0\n",
            "weathersit    0\n",
            "temp          0\n",
            "atemp         0\n",
            "hum           0\n",
            "windspeed     0\n",
            "casual        0\n",
            "registered    0\n",
            "cnt           0\n",
            "dtype: int64\n",
            "\n",
            "Info data null day data frame:\n",
            " instant       0\n",
            "dteday        0\n",
            "season        0\n",
            "yr            0\n",
            "mnth          0\n",
            "holiday       0\n",
            "weekday       0\n",
            "workingday    0\n",
            "weathersit    0\n",
            "temp          0\n",
            "atemp         0\n",
            "hum           0\n",
            "windspeed     0\n",
            "casual        0\n",
            "registered    0\n",
            "cnt           0\n",
            "dtype: int64\n"
          ]
        }
      ]
    },
    {
      "cell_type": "markdown",
      "source": [
        "tidak terdapat data null atau kosong pada kedua data frame"
      ],
      "metadata": {
        "id": "-VK3RkcdBLHI"
      }
    },
    {
      "cell_type": "code",
      "source": [
        "print('\\nInfo data duplikat hour data frame:\\n', hour.duplicated().sum())\n",
        "print('\\nInfo data duplikat day data frame:\\n', day.duplicated().sum())"
      ],
      "metadata": {
        "colab": {
          "base_uri": "https://localhost:8080/"
        },
        "id": "rrZN-uZg__wr",
        "outputId": "21edb7cb-b31c-42cd-8025-fcce4d0b5a5f"
      },
      "execution_count": 51,
      "outputs": [
        {
          "output_type": "stream",
          "name": "stdout",
          "text": [
            "\n",
            "Info data duplikat hour data frame:\n",
            " 0\n",
            "\n",
            "Info data duplikat day data frame:\n",
            " 0\n"
          ]
        }
      ]
    },
    {
      "cell_type": "markdown",
      "source": [
        "tidak terdapat data duplikat pada kedua data frame"
      ],
      "metadata": {
        "id": "1Bs0aeLCBWAS"
      }
    },
    {
      "cell_type": "code",
      "source": [
        "print('\\nData describe hour data frame:\\n', hour.describe(include='all'))\n",
        "print('\\nData describe day data frame:\\n', day.describe(include='all'))"
      ],
      "metadata": {
        "colab": {
          "base_uri": "https://localhost:8080/"
        },
        "id": "sldtUI9tADnY",
        "outputId": "4858674a-cfb4-4148-98e3-72dbb8720965"
      },
      "execution_count": 52,
      "outputs": [
        {
          "output_type": "stream",
          "name": "stdout",
          "text": [
            "\n",
            "Data describe hour data frame:\n",
            "            instant      dteday        season            yr          mnth  \\\n",
            "count   17379.0000       17379  17379.000000  17379.000000  17379.000000   \n",
            "unique         NaN         731           NaN           NaN           NaN   \n",
            "top            NaN  2011-01-01           NaN           NaN           NaN   \n",
            "freq           NaN          24           NaN           NaN           NaN   \n",
            "mean     8690.0000         NaN      2.501640      0.502561      6.537775   \n",
            "std      5017.0295         NaN      1.106918      0.500008      3.438776   \n",
            "min         1.0000         NaN      1.000000      0.000000      1.000000   \n",
            "25%      4345.5000         NaN      2.000000      0.000000      4.000000   \n",
            "50%      8690.0000         NaN      3.000000      1.000000      7.000000   \n",
            "75%     13034.5000         NaN      3.000000      1.000000     10.000000   \n",
            "max     17379.0000         NaN      4.000000      1.000000     12.000000   \n",
            "\n",
            "                  hr       holiday       weekday    workingday    weathersit  \\\n",
            "count   17379.000000  17379.000000  17379.000000  17379.000000  17379.000000   \n",
            "unique           NaN           NaN           NaN           NaN           NaN   \n",
            "top              NaN           NaN           NaN           NaN           NaN   \n",
            "freq             NaN           NaN           NaN           NaN           NaN   \n",
            "mean       11.546752      0.028770      3.003683      0.682721      1.425283   \n",
            "std         6.914405      0.167165      2.005771      0.465431      0.639357   \n",
            "min         0.000000      0.000000      0.000000      0.000000      1.000000   \n",
            "25%         6.000000      0.000000      1.000000      0.000000      1.000000   \n",
            "50%        12.000000      0.000000      3.000000      1.000000      1.000000   \n",
            "75%        18.000000      0.000000      5.000000      1.000000      2.000000   \n",
            "max        23.000000      1.000000      6.000000      1.000000      4.000000   \n",
            "\n",
            "                temp         atemp           hum     windspeed        casual  \\\n",
            "count   17379.000000  17379.000000  17379.000000  17379.000000  17379.000000   \n",
            "unique           NaN           NaN           NaN           NaN           NaN   \n",
            "top              NaN           NaN           NaN           NaN           NaN   \n",
            "freq             NaN           NaN           NaN           NaN           NaN   \n",
            "mean        0.496987      0.475775      0.627229      0.190098     35.676218   \n",
            "std         0.192556      0.171850      0.192930      0.122340     49.305030   \n",
            "min         0.020000      0.000000      0.000000      0.000000      0.000000   \n",
            "25%         0.340000      0.333300      0.480000      0.104500      4.000000   \n",
            "50%         0.500000      0.484800      0.630000      0.194000     17.000000   \n",
            "75%         0.660000      0.621200      0.780000      0.253700     48.000000   \n",
            "max         1.000000      1.000000      1.000000      0.850700    367.000000   \n",
            "\n",
            "          registered           cnt  \n",
            "count   17379.000000  17379.000000  \n",
            "unique           NaN           NaN  \n",
            "top              NaN           NaN  \n",
            "freq             NaN           NaN  \n",
            "mean      153.786869    189.463088  \n",
            "std       151.357286    181.387599  \n",
            "min         0.000000      1.000000  \n",
            "25%        34.000000     40.000000  \n",
            "50%       115.000000    142.000000  \n",
            "75%       220.000000    281.000000  \n",
            "max       886.000000    977.000000  \n",
            "\n",
            "Data describe day data frame:\n",
            "            instant      dteday      season          yr        mnth  \\\n",
            "count   731.000000         731  731.000000  731.000000  731.000000   \n",
            "unique         NaN         731         NaN         NaN         NaN   \n",
            "top            NaN  2011-01-01         NaN         NaN         NaN   \n",
            "freq           NaN           1         NaN         NaN         NaN   \n",
            "mean    366.000000         NaN    2.496580    0.500684    6.519836   \n",
            "std     211.165812         NaN    1.110807    0.500342    3.451913   \n",
            "min       1.000000         NaN    1.000000    0.000000    1.000000   \n",
            "25%     183.500000         NaN    2.000000    0.000000    4.000000   \n",
            "50%     366.000000         NaN    3.000000    1.000000    7.000000   \n",
            "75%     548.500000         NaN    3.000000    1.000000   10.000000   \n",
            "max     731.000000         NaN    4.000000    1.000000   12.000000   \n",
            "\n",
            "           holiday     weekday  workingday  weathersit        temp  \\\n",
            "count   731.000000  731.000000  731.000000  731.000000  731.000000   \n",
            "unique         NaN         NaN         NaN         NaN         NaN   \n",
            "top            NaN         NaN         NaN         NaN         NaN   \n",
            "freq           NaN         NaN         NaN         NaN         NaN   \n",
            "mean      0.028728    2.997264    0.683995    1.395349    0.495385   \n",
            "std       0.167155    2.004787    0.465233    0.544894    0.183051   \n",
            "min       0.000000    0.000000    0.000000    1.000000    0.059130   \n",
            "25%       0.000000    1.000000    0.000000    1.000000    0.337083   \n",
            "50%       0.000000    3.000000    1.000000    1.000000    0.498333   \n",
            "75%       0.000000    5.000000    1.000000    2.000000    0.655417   \n",
            "max       1.000000    6.000000    1.000000    3.000000    0.861667   \n",
            "\n",
            "             atemp         hum   windspeed       casual   registered  \\\n",
            "count   731.000000  731.000000  731.000000   731.000000   731.000000   \n",
            "unique         NaN         NaN         NaN          NaN          NaN   \n",
            "top            NaN         NaN         NaN          NaN          NaN   \n",
            "freq           NaN         NaN         NaN          NaN          NaN   \n",
            "mean      0.474354    0.627894    0.190486   848.176471  3656.172367   \n",
            "std       0.162961    0.142429    0.077498   686.622488  1560.256377   \n",
            "min       0.079070    0.000000    0.022392     2.000000    20.000000   \n",
            "25%       0.337842    0.520000    0.134950   315.500000  2497.000000   \n",
            "50%       0.486733    0.626667    0.180975   713.000000  3662.000000   \n",
            "75%       0.608602    0.730209    0.233214  1096.000000  4776.500000   \n",
            "max       0.840896    0.972500    0.507463  3410.000000  6946.000000   \n",
            "\n",
            "                cnt  \n",
            "count    731.000000  \n",
            "unique          NaN  \n",
            "top             NaN  \n",
            "freq            NaN  \n",
            "mean    4504.348837  \n",
            "std     1937.211452  \n",
            "min       22.000000  \n",
            "25%     3152.000000  \n",
            "50%     4548.000000  \n",
            "75%     5956.000000  \n",
            "max     8714.000000  \n"
          ]
        }
      ]
    },
    {
      "cell_type": "markdown",
      "metadata": {
        "id": "EhN5R4hr8DC1"
      },
      "source": [
        "### Cleaning Data"
      ]
    },
    {
      "cell_type": "markdown",
      "source": [
        "**Tidak ada yang perlu dihapus/drop karna data set sudah bersih tidak ada data yang duplikat maupun null**"
      ],
      "metadata": {
        "id": "RP4fuLynPu4b"
      }
    },
    {
      "cell_type": "markdown",
      "source": [
        "mengubah tipe data dteday, yr, mnth, hr dari objek menjadi datetime dari data frame hour"
      ],
      "metadata": {
        "id": "HLs5ycZM8OQ3"
      }
    },
    {
      "cell_type": "code",
      "source": [
        "hour_col = [\"dteday\", \"yr\", \"mnth\", \"hr\"]"
      ],
      "metadata": {
        "id": "TO241_2GCMQW"
      },
      "execution_count": 65,
      "outputs": []
    },
    {
      "cell_type": "code",
      "source": [
        "hour[hour_col] = hour[hour_col].apply(pd.to_datetime)"
      ],
      "metadata": {
        "id": "jVnYpprE9Evz"
      },
      "execution_count": 66,
      "outputs": []
    },
    {
      "cell_type": "markdown",
      "source": [
        "mengubah tipe data dteday, yr, mnth dari objek menjadi datetime dari data frame day"
      ],
      "metadata": {
        "id": "MMEkRxYPC63E"
      }
    },
    {
      "cell_type": "code",
      "source": [
        "day_col = [\"dteday\", \"yr\", \"mnth\"]"
      ],
      "metadata": {
        "id": "wup3zc_LB8Nn"
      },
      "execution_count": 67,
      "outputs": []
    },
    {
      "cell_type": "code",
      "source": [
        "day[day_col] = day[day_col].apply(pd.to_datetime)"
      ],
      "metadata": {
        "id": "w_9ezzL8DFNz"
      },
      "execution_count": 68,
      "outputs": []
    },
    {
      "cell_type": "markdown",
      "metadata": {
        "id": "gp-Y6wU38DC1"
      },
      "source": [
        "## Exploratory Data Analysis (EDA)"
      ]
    },
    {
      "cell_type": "markdown",
      "metadata": {
        "id": "MW7WF2kr8DC1"
      },
      "source": [
        "### Explore ..."
      ]
    },
    {
      "cell_type": "markdown",
      "source": [
        "Menghitung jumlah total peminjaman sepeda per bulan dengan mengelompokkan data berdasarkan tanggal dengan frekuensi bulanan dan dengan memilih kolom cnt untuk menghitung jumlahnya tiap bulan"
      ],
      "metadata": {
        "id": "9eFr3XrC8jM4"
      }
    },
    {
      "cell_type": "code",
      "execution_count": 57,
      "metadata": {
        "id": "e9CQCZjk8DC2"
      },
      "outputs": [],
      "source": [
        "monthly_total_rentals = hour.groupby(pd.Grouper(key='dteday', freq='M'))['cnt'].sum()"
      ]
    },
    {
      "cell_type": "markdown",
      "source": [
        "Menghitung jumlah peminjaman sepeda untuk setiap jam dalam satu hari dengan mengelompokkan data dari DataFrame hour berdasarkan jam dan menghitung rata-rata jumlah peminjaman sepeda untuk setiap jam dalam satu hari"
      ],
      "metadata": {
        "id": "keGPbJ8DQZx7"
      }
    },
    {
      "cell_type": "code",
      "source": [
        "hourly_rentals = hour.groupby('hr')['cnt'].mean()"
      ],
      "metadata": {
        "id": "aHZb5xSk-jK9"
      },
      "execution_count": 58,
      "outputs": []
    },
    {
      "cell_type": "markdown",
      "source": [
        "Menghitung jumlah peminjaman pada setiap musim dengan mengelompokkan data dari DataFrame hour berdasarkan musim dan menghitung rata-rata jumlah peminjaman sepeda untuk setiap musim."
      ],
      "metadata": {
        "id": "etjGG25ZQx0E"
      }
    },
    {
      "cell_type": "code",
      "source": [
        "seasonal_rentals = hour.groupby('season')['cnt'].mean()"
      ],
      "metadata": {
        "id": "qnMyB4Z4HpRv"
      },
      "execution_count": 59,
      "outputs": []
    },
    {
      "cell_type": "code",
      "source": [
        "print(hour.head())"
      ],
      "metadata": {
        "colab": {
          "base_uri": "https://localhost:8080/"
        },
        "id": "FgAPoW8TS4K6",
        "outputId": "fdc47426-c661-4796-b015-402d0dcc676e"
      },
      "execution_count": 72,
      "outputs": [
        {
          "output_type": "stream",
          "name": "stdout",
          "text": [
            "   instant     dteday  season         yr                          mnth  \\\n",
            "0        1 2011-01-01       1 1970-01-01 1970-01-01 00:00:00.000000001   \n",
            "1        2 2011-01-01       1 1970-01-01 1970-01-01 00:00:00.000000001   \n",
            "2        3 2011-01-01       1 1970-01-01 1970-01-01 00:00:00.000000001   \n",
            "3        4 2011-01-01       1 1970-01-01 1970-01-01 00:00:00.000000001   \n",
            "4        5 2011-01-01       1 1970-01-01 1970-01-01 00:00:00.000000001   \n",
            "\n",
            "                             hr  holiday  weekday  workingday  weathersit  \\\n",
            "0 1970-01-01 00:00:00.000000000        0        6           0           1   \n",
            "1 1970-01-01 00:00:00.000000001        0        6           0           1   \n",
            "2 1970-01-01 00:00:00.000000002        0        6           0           1   \n",
            "3 1970-01-01 00:00:00.000000003        0        6           0           1   \n",
            "4 1970-01-01 00:00:00.000000004        0        6           0           1   \n",
            "\n",
            "   temp   atemp   hum  windspeed  casual  registered  cnt  \n",
            "0  0.24  0.2879  0.81        0.0       3          13   16  \n",
            "1  0.22  0.2727  0.80        0.0       8          32   40  \n",
            "2  0.22  0.2727  0.80        0.0       5          27   32  \n",
            "3  0.24  0.2879  0.75        0.0       3          10   13  \n",
            "4  0.24  0.2879  0.75        0.0       0           1    1  \n"
          ]
        }
      ]
    },
    {
      "cell_type": "markdown",
      "metadata": {
        "id": "zsyZjqak8DC2"
      },
      "source": [
        "## Visualization & Explanatory Analysis"
      ]
    },
    {
      "cell_type": "markdown",
      "metadata": {
        "id": "HZxOiQ6n8DC2"
      },
      "source": [
        "### Pertanyaan 1:Bagaimana pola jumlah peminjaman sepeda pada setiap jam dalam satu hari?"
      ]
    },
    {
      "cell_type": "code",
      "execution_count": 73,
      "metadata": {
        "id": "1swJUdAD8DC2",
        "colab": {
          "base_uri": "https://localhost:8080/",
          "height": 448
        },
        "outputId": "3af4ffea-2486-4c22-d1f6-f0a7d254caad"
      },
      "outputs": [
        {
          "output_type": "display_data",
          "data": {
            "text/plain": [
              "<Figure size 1000x600 with 1 Axes>"
            ],
            "image/png": "[encoded data removed]"
          },
          "metadata": {}
        }
      ],
      "source": [
        "plt.figure(figsize=(10, 6))\n",
        "\n",
        "hourly_rentals.plot(kind='bar', color='skyblue')\n",
        "\n",
        "top_3_hours = hourly_rentals.nlargest(3).index\n",
        "hour_indices = [hourly_rentals.index.get_loc(hour) for hour in top_3_hours]\n",
        "for i in hour_indices:\n",
        "    plt.gca().get_children()[i].set_color('navy')\n",
        "\n",
        "plt.title('Pola Jumlah Peminjaman Sepeda pada Setiap Jam dalam Satu Hari')\n",
        "plt.xlabel('Jam (0-23)')\n",
        "plt.ylabel('Jumlah Peminjaman Sepeda (Rata-rata)')\n",
        "plt.xticks(range(24), labels=[f'{hour}:00' for hour in range(24)], rotation=45)  # Mengatur label sumbu x\n",
        "plt.grid(axis='y')\n",
        "\n",
        "plt.show()\n"
      ]
    },
    {
      "cell_type": "markdown",
      "source": [
        "Dari hasil visualisasi diatas, dapat diketahui bahwa peminjaman sepeda paling sering terjadi pada **pagi hari yaitu jam 8 dan sore hari dijam 5 dan jam 6**"
      ],
      "metadata": {
        "id": "1AoDqZpyDqih"
      }
    },
    {
      "cell_type": "markdown",
      "metadata": {
        "id": "DgHI7CiU8DC2"
      },
      "source": [
        "### Pertanyaan 2: Apakah terdapat tren jangka panjang dalam jumlah total peminjaman sepeda dari waktu ke waktu?"
      ]
    },
    {
      "cell_type": "code",
      "execution_count": null,
      "metadata": {
        "id": "Go0lCsvO8DC2"
      },
      "outputs": [],
      "source": [
        "plt.figure(figsize=(10, 6))\n",
        "plt.plot(monthly_total_rentals.index, monthly_total_rentals.values, marker='o', linestyle='-')\n",
        "plt.title('Total Peminjaman Sepeda per Bulan')\n",
        "plt.xlabel('Bulan')\n",
        "plt.ylabel('Total Peminjaman Sepeda')\n",
        "plt.grid(True)\n",
        "plt.show()"
      ]
    },
    {
      "cell_type": "markdown",
      "source": [
        "Dari hasil visualisasi di atas, terlihat bahwa peminjaman sepeda mencapai **puncaknya antara bulan 7 dan 10 2012**. Sedangkan **peningkatan tertinggi terjadi antara bulan 3 dan 4 2012**, dan **penurunan tertinggi terjadi antara bulan 10 dan bulan 11 2012**."
      ],
      "metadata": {
        "id": "Zltb7nyrKSQF"
      }
    },
    {
      "cell_type": "markdown",
      "source": [
        "### Pertanyaan 3: Bagaimana korelasi antara musim dan jumlah penyewaan sepeda harian, pada musim apakah peminjam terbanyak?"
      ],
      "metadata": {
        "id": "CB1uQsJWIJQJ"
      }
    },
    {
      "cell_type": "code",
      "source": [
        "plt.figure(figsize=(8, 6))\n",
        "seasonal_rentals.plot(kind='bar', color='skyblue')\n",
        "plt.title('Korelasi antara Musim dan Jumlah Penyewaan Sepeda Harian')\n",
        "plt.xlabel('Musim')\n",
        "plt.ylabel('Jumlah Penyewaan Sepeda Harian (Rata-rata)')\n",
        "plt.xticks(range(4), labels=['Spring', 'Summer', 'Fall', 'Winter'], rotation=45)\n",
        "plt.grid(axis='y')\n",
        "plt.show()\n"
      ],
      "metadata": {
        "id": "PIe9QfGXIGeJ"
      },
      "execution_count": null,
      "outputs": []
    },
    {
      "cell_type": "markdown",
      "source": [
        "Dari hasil visualisasi diatas, dapat diketahui bahwa peminjaman sepeda paling tinggi terjadi pada musim gugur, diikuti dengan musim panas, musim dingin, dan musim semi."
      ],
      "metadata": {
        "id": "TQZboxXWEop7"
      }
    },
    {
      "cell_type": "markdown",
      "metadata": {
        "id": "_WeHlCeX8DC2"
      },
      "source": [
        "## Conclusion"
      ]
    },
    {
      "cell_type": "markdown",
      "metadata": {
        "id": "ZTcyR48Y8DC2"
      },
      "source": [
        "- Kesimpulan dari pertanyaan 1 yaitu, pola peminjaman sepeda menunjukkan adanya tren yang konsisten sepanjang hari. **Puncak peminjaman terjadi pada sore hari sekitar jam 5 dan 6**, yang kemungkinan disebabkan oleh pulangnya orang-orang dari tempat kerja atau sekolah dan menggunakan sepeda untuk rekreasi atau kegiatan lainnya. Sedangkan peminjaman tertinggi selanjutnya terjadi pada pagi hari sekitar jam 8, yang mungkin karena banyaknya orang yang menggunakan sepeda sebagai sarana transportasi untuk berangkat ke tempat kerja atau sekolah. Selain itu, terdapat** penurunan jumlah peminjaman pada jam 12 malam hingga sekitar jam 7 pagi**, serta pada malam hari. Pola ini berulang setiap hari, menunjukkan bahwa pola peminjaman sepeda pada setiap jam dalam satu hari relatif konsisten dan dapat diandalkan.\n",
        "- Kesimpulan pertanyaan 2 yaitu, terdapat tren jangka panjang dalam jumlah total peminjaman sepeda dari waktu ke waktu. Peminjaman sepeda mencapai puncaknya antara bulan Juli dan Oktober 2012. Peningkatan tertinggi dalam jumlah peminjaman terjadi antara bulan Maret dan April 2012, menunjukkan adanya peningkatan signifikan dalam minat masyarakat untuk menggunakan layanan peminjaman sepeda pada periode tersebut. Namun, terdapat penurunan tertinggi dalam jumlah peminjaman antara bulan Oktober dan November 2012, yang mungkin disebabkan oleh faktor-faktor musiman atau perubahan tren dalam preferensi transportasi. Ini menunjukkan bahwa meskipun terdapat fluktuasi dalam jumlah peminjaman sepeda dari waktu ke waktu, tren jangka panjang menunjukkan adanya periode tertentu di mana minat masyarakat dalam menggunakan layanan peminjaman sepeda lebih tinggi daripada periode lainnya.\n",
        "- Kesimpulan pertanyaan 3 yaitu, Peminjaman sepeda paling tinggi terjadi pada musim gugur, yang kemungkinan disebabkan oleh cuaca yang lebih sejuk dan kondisi yang lebih nyaman untuk bersepeda. Diikuti oleh musim panas, dimana cuaca yang cerah dan hangat membuat orang lebih cenderung untuk beraktivitas di luar ruangan, termasuk bersepeda. Selanjutnya, jumlah penyewaan sepeda pada musim dingin menunjukkan penurunan, mungkin karena cuaca yang lebih dingin dan kurangnya preferensi untuk bersepeda di musim tersebut. Sedangkan pada musim semi, jumlah penyewaan sepeda berada di antara musim gugur dan musim panas. Oleh karena itu, dapat disimpulkan bahwa peminjaman sepeda cenderung tertinggi pada musim gugur, diikuti oleh musim panas, musim semi, dan musim dingin."
      ]
    }
  ],
  "metadata": {
    "kernelspec": {
      "display_name": "Python 3",
      "language": "python",
      "name": "python3"
    },
    "language_info": {
      "name": "python",
      "version": "3.8.0 (tags/v3.8.0:fa919fd, Oct 14 2019, 19:21:23) [MSC v.1916 32 bit (Intel)]"
    },
    "orig_nbformat": 4,
    "vscode": {
      "interpreter": {
        "hash": "972b3bf27e332e87b5379f2791f6ef9dfc79c71018c370b0d7423235e20fe4d7"
      }
    },
    "colab": {
      "provenance": []
    }
  },
  "nbformat": 4,
  "nbformat_minor": 0
}